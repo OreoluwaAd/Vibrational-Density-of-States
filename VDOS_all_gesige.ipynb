{
 "cells": [
  {
   "cell_type": "code",
   "execution_count": null,
   "id": "4ff3f7c1",
   "metadata": {},
   "outputs": [],
   "source": [
    "#IMPORT PYTHON PACKAGES\n",
    "import seaborn as sns\n",
    "import scipy as sp\n",
    "import scipy.integrate\n",
    "import numpy  as np\n",
    "import copy\n",
    "import matplotlib.pylab as plt\n",
    "from matplotlib import rcParams\n",
    "from matplotlib.ticker import FormatStrFormatter\n",
    "import time\n",
    "import datetime\n",
    "import math as math\n",
    "\n",
    "#Plot settings\n",
    "sns.set_style(\"whitegrid\", rc={\"axes.edgecolor\": \"k\", \"axes.linewidth\":2.})\n",
    "sns.set_context(\"notebook\",rc={\"grid.linewidth\": 0, \"legend.fontsize\":20.,\n",
    "                            \"font.family\":\"Helvetica\", \"axes.labelsize\":32.,\"xtick.labelsize\":32.,\n",
    "                            \"ytick.labelsize\":32.})\n",
    "color_blind_safe = sns.color_palette(\"colorblind\", 10) \n",
    "colors = color_blind_safe\n",
    "remaining_colors = colors[1:]"
   ]
  },
  {
   "cell_type": "markdown",
   "id": "536e2987-cd2b-48a5-906d-417894a2d63b",
   "metadata": {},
   "source": [
    "label guide:\n",
    "\t*_r01.d = *_r50.d\n",
    "\t*_r02.d = *_r125.d\n",
    "\t*_r03.d = *_r250.d\n",
    "\t*_r04.d = *_r271.d\n",
    "\t*_r05.d = *_str.d\n"
   ]
  },
  {
   "cell_type": "code",
   "execution_count": null,
   "id": "3879933e",
   "metadata": {},
   "outputs": [],
   "source": [
    "sim_no = 5 # number of simulations/seeds\n",
    "\n",
    "ps2s = 1e-12 \n",
    "\n",
    "VACFs = []\n",
    "for i in range(1,sim_no+1):\n",
    "\n",
    "    filename_GeSiGe = 'vacf_all_GeSiGe_200_r0%s.d' % i\n",
    "    VACFs.append(np.loadtxt(filename_GeSiGe))\n",
    "VACFs = np.array(VACFs)\n",
    "print(np.shape(VACFs))"
   ]
  },
  {
   "cell_type": "code",
   "execution_count": null,
   "id": "7e9ec016-3580-485c-8c40-1a4abc3ee5aa",
   "metadata": {},
   "outputs": [],
   "source": []
  },
  {
   "cell_type": "code",
   "execution_count": null,
   "id": "3044a45e",
   "metadata": {},
   "outputs": [],
   "source": [
    "mean_vacf_all = np.mean(VACFs, axis = 0)\n",
    "\n",
    "print(np.shape(mean_vacf_all))"
   ]
  },
  {
   "cell_type": "code",
   "execution_count": null,
   "id": "d056b8e3",
   "metadata": {},
   "outputs": [],
   "source": [
    "colors = sns.color_palette(\"colorblind\", 20)\n",
    "\n",
    "fig = plt.figure(figsize=(12, 8))\n",
    "\n",
    "plt.plot(VACFs[4,:,0]*ps2s, VACFs[4,:,-1], color = colors[0])\n",
    "\n",
    "for i in range(0,(sim_no-1)):\n",
    "\n",
    "    plt.plot(VACFs[i,:,0]*ps2s, VACFs[i,:,-1], color = remaining_colors[i])\n",
    "\n",
    "    \n",
    "#plt.plot(VACFs[0,:,0]*ps2s, mean_vacf_all[:, -1],color = 'black')\n",
    "     \n",
    "\n",
    "plt.xlabel(r'Time(s)', fontdict={'fontsize':20})\n",
    "plt.ylabel(r'Total VACF ($\\AA^{2}$/ps)', fontdict={'fontsize':20})\n",
    "plt.title(r'VCAF Plot', fontdict={'fontsize':28})\n",
    "\n",
    "\n",
    "plt.show()\n"
   ]
  },
  {
   "cell_type": "code",
   "execution_count": null,
   "id": "8bbf3d13",
   "metadata": {
    "scrolled": true
   },
   "outputs": [],
   "source": [
    "dt_sys = 0.0005\n",
    "frequency = 20\n",
    "number_of_points = 1000\n",
    "\n",
    "VDOS = []\n",
    "for i in range(0,sim_no):#\n",
    "\n",
    "    t_all = VACFs[i,:,0]*dt_sys\n",
    "    c_all = VACFs[i,:,-1]\n",
    "    \n",
    "    freq = np.linspace(0,frequency,number_of_points)\n",
    "\n",
    "    VDOS_sys = []   \n",
    "    for f in freq:\n",
    "        transform = np.dot(c_all,np.cos(2*np.pi*t_all*f))*(dt_sys)\n",
    "        VDOS_sys.append(np.sqrt(transform**2))\n",
    "    t_all = []; c_all = [] \n",
    "\n",
    "#    #VDOS_sys = np.array(VDOS_sys)\n",
    "    VDOS.append(VDOS_sys)\n",
    "VDOS = np.array(VDOS)    \n",
    "\n",
    "print(np.shape(VDOS))\n"
   ]
  },
  {
   "cell_type": "code",
   "execution_count": null,
   "id": "17f2953a",
   "metadata": {},
   "outputs": [],
   "source": [
    "#"
   ]
  },
  {
   "cell_type": "code",
   "execution_count": null,
   "id": "120dae21",
   "metadata": {},
   "outputs": [],
   "source": [
    "mean_vdos = np.mean(VDOS, axis = 0)\n",
    "print(np.shape(mean_vdos))\n",
    "mean_vdos = np.array(mean_vdos)"
   ]
  },
  {
   "cell_type": "code",
   "execution_count": null,
   "id": "ea732f23",
   "metadata": {},
   "outputs": [],
   "source": [
    "labels = ['Si(hot)-r50', 'Si(hot)-r125', 'Si(hot)-r250', 'Si(hot)-r271', 'Si|hot|']\n",
    "\n",
    "fig = plt.figure(figsize=(12, 8))\n",
    "\n",
    "plt.plot(freq[:], VDOS[4,:],':', color=colors[0], label=labels[4])\n",
    "\n",
    "for i in range(0,(sim_no-1)):\n",
    "\n",
    "    plt.plot(freq[:], VDOS[i,:],':', color=remaining_colors[i], label=labels[i])\n",
    "\n",
    "#plt.plot(freq[:], mean_vdos[:],':', lw = 1.5, color = 'black',label = 'Average')\n",
    "\n",
    "\n",
    "plt.xlabel(r'Frequency (Hz)', fontdict={'fontsize':20})\n",
    "plt.ylabel(r'VDOS ($\\AA$/$\\sqrt{ps}$)', fontdict={'fontsize':20})\n",
    "plt.title(r'Power Spectral Density', fontdict={'fontsize':28})\n",
    "plt.legend(bbox_to_anchor=(1.05, 1.0), loc='upper left')\n",
    "\n",
    "\n",
    "plt.show()\n"
   ]
  },
  {
   "cell_type": "code",
   "execution_count": null,
   "id": "8635a594",
   "metadata": {},
   "outputs": [],
   "source": []
  },
  {
   "cell_type": "code",
   "execution_count": null,
   "id": "1731c85f",
   "metadata": {},
   "outputs": [],
   "source": [
    "from scipy.ndimage import gaussian_filter\n",
    "    \n",
    "smooth_VDOS = gaussian_filter(VDOS, sigma=3)\n",
    "\n",
    "smooth_VDOS_all = gaussian_filter(mean_vdos, sigma=3)\n"
   ]
  },
  {
   "cell_type": "code",
   "execution_count": null,
   "id": "1015403f",
   "metadata": {},
   "outputs": [],
   "source": [
    "#plot different systems\n",
    "fig = plt.figure(figsize=(12, 8))\n",
    "\n",
    "plt.plot(freq[:], smooth_VDOS[4,:],':', color=colors[0],label=labels[4])\n",
    "    \n",
    "for i in range(0,(sim_no-1)):\n",
    "\n",
    "    plt.plot(freq[:], smooth_VDOS[i,:],':', color=remaining_colors[i],label=labels[i])\n",
    "    \n",
    "#plt.plot(freq[:], smooth_VDOS_all[:],':', lw = 1.5, color = 'black',label='Average')\n",
    "\n",
    "plt.xlabel(r'Frequency (Hz)', fontdict={'fontsize':22})\n",
    "#plt.ylabel(r'Smooth VDOS ($\\AA$/$\\sqrt{ps}$)', fontdict={'fontsize':22})\n",
    "plt.ylabel(r'Smooth VDOS (arb. units)', fontdict={'fontsize':22})\n",
    "#plt.title(r'Power Spectral Density for SiGe with Pristine', fontdict={'fontsize':28})\n",
    "plt.legend(bbox_to_anchor=(1.05, 1.0), loc='upper left')\n",
    "\n",
    "\n",
    "plt.show()"
   ]
  },
  {
   "cell_type": "code",
   "execution_count": null,
   "id": "5a0320b4",
   "metadata": {},
   "outputs": [],
   "source": []
  },
  {
   "cell_type": "code",
   "execution_count": null,
   "id": "2e994e59",
   "metadata": {},
   "outputs": [],
   "source": []
  }
 ],
 "metadata": {
  "kernelspec": {
   "display_name": "Python 3 (ipykernel)",
   "language": "python",
   "name": "python3"
  },
  "language_info": {
   "codemirror_mode": {
    "name": "ipython",
    "version": 3
   },
   "file_extension": ".py",
   "mimetype": "text/x-python",
   "name": "python",
   "nbconvert_exporter": "python",
   "pygments_lexer": "ipython3",
   "version": "3.12.3"
  }
 },
 "nbformat": 4,
 "nbformat_minor": 5
}
